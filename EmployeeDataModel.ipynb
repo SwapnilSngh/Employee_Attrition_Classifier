{
 "cells": [
  {
   "cell_type": "code",
   "execution_count": 1,
   "id": "de016cdf",
   "metadata": {},
   "outputs": [],
   "source": [
    "import numpy as np\n",
    "import pandas as pd\n",
    "import seaborn as sns\n",
    "import matplotlib.pyplot as plt\n",
    "%matplotlib inline"
   ]
  },
  {
   "cell_type": "code",
   "execution_count": 2,
   "id": "5bcf0a4d",
   "metadata": {},
   "outputs": [],
   "source": [
    "df = pd.read_csv('HR-Employee-Data.csv')"
   ]
  },
  {
   "cell_type": "code",
   "execution_count": 3,
   "id": "6a822316",
   "metadata": {},
   "outputs": [
    {
     "data": {
      "text/html": [
       "<div>\n",
       "<style scoped>\n",
       "    .dataframe tbody tr th:only-of-type {\n",
       "        vertical-align: middle;\n",
       "    }\n",
       "\n",
       "    .dataframe tbody tr th {\n",
       "        vertical-align: top;\n",
       "    }\n",
       "\n",
       "    .dataframe thead th {\n",
       "        text-align: right;\n",
       "    }\n",
       "</style>\n",
       "<table border=\"1\" class=\"dataframe\">\n",
       "  <thead>\n",
       "    <tr style=\"text-align: right;\">\n",
       "      <th></th>\n",
       "      <th>Age</th>\n",
       "      <th>Attrition</th>\n",
       "      <th>BusinessTravel</th>\n",
       "      <th>DailyRate</th>\n",
       "      <th>Department</th>\n",
       "      <th>DistanceFromHome</th>\n",
       "      <th>Education</th>\n",
       "      <th>EducationField</th>\n",
       "      <th>EmployeeCount</th>\n",
       "      <th>EmployeeNumber</th>\n",
       "      <th>...</th>\n",
       "      <th>RelationshipSatisfaction</th>\n",
       "      <th>StandardHours</th>\n",
       "      <th>StockOptionLevel</th>\n",
       "      <th>TotalWorkingYears</th>\n",
       "      <th>TrainingTimesLastYear</th>\n",
       "      <th>WorkLifeBalance</th>\n",
       "      <th>YearsAtCompany</th>\n",
       "      <th>YearsInCurrentRole</th>\n",
       "      <th>YearsSinceLastPromotion</th>\n",
       "      <th>YearsWithCurrManager</th>\n",
       "    </tr>\n",
       "  </thead>\n",
       "  <tbody>\n",
       "    <tr>\n",
       "      <th>0</th>\n",
       "      <td>41</td>\n",
       "      <td>Yes</td>\n",
       "      <td>Travel_Rarely</td>\n",
       "      <td>1102</td>\n",
       "      <td>Sales</td>\n",
       "      <td>1</td>\n",
       "      <td>2</td>\n",
       "      <td>Life Sciences</td>\n",
       "      <td>1</td>\n",
       "      <td>1</td>\n",
       "      <td>...</td>\n",
       "      <td>1</td>\n",
       "      <td>80</td>\n",
       "      <td>0</td>\n",
       "      <td>8</td>\n",
       "      <td>0</td>\n",
       "      <td>1</td>\n",
       "      <td>6</td>\n",
       "      <td>4</td>\n",
       "      <td>0</td>\n",
       "      <td>5</td>\n",
       "    </tr>\n",
       "    <tr>\n",
       "      <th>1</th>\n",
       "      <td>49</td>\n",
       "      <td>No</td>\n",
       "      <td>Travel_Frequently</td>\n",
       "      <td>279</td>\n",
       "      <td>Research &amp; Development</td>\n",
       "      <td>8</td>\n",
       "      <td>1</td>\n",
       "      <td>Life Sciences</td>\n",
       "      <td>1</td>\n",
       "      <td>2</td>\n",
       "      <td>...</td>\n",
       "      <td>4</td>\n",
       "      <td>80</td>\n",
       "      <td>1</td>\n",
       "      <td>10</td>\n",
       "      <td>3</td>\n",
       "      <td>3</td>\n",
       "      <td>10</td>\n",
       "      <td>7</td>\n",
       "      <td>1</td>\n",
       "      <td>7</td>\n",
       "    </tr>\n",
       "    <tr>\n",
       "      <th>2</th>\n",
       "      <td>37</td>\n",
       "      <td>Yes</td>\n",
       "      <td>Travel_Rarely</td>\n",
       "      <td>1373</td>\n",
       "      <td>Research &amp; Development</td>\n",
       "      <td>2</td>\n",
       "      <td>2</td>\n",
       "      <td>Other</td>\n",
       "      <td>1</td>\n",
       "      <td>4</td>\n",
       "      <td>...</td>\n",
       "      <td>2</td>\n",
       "      <td>80</td>\n",
       "      <td>0</td>\n",
       "      <td>7</td>\n",
       "      <td>3</td>\n",
       "      <td>3</td>\n",
       "      <td>0</td>\n",
       "      <td>0</td>\n",
       "      <td>0</td>\n",
       "      <td>0</td>\n",
       "    </tr>\n",
       "    <tr>\n",
       "      <th>3</th>\n",
       "      <td>33</td>\n",
       "      <td>No</td>\n",
       "      <td>Travel_Frequently</td>\n",
       "      <td>1392</td>\n",
       "      <td>Research &amp; Development</td>\n",
       "      <td>3</td>\n",
       "      <td>4</td>\n",
       "      <td>Life Sciences</td>\n",
       "      <td>1</td>\n",
       "      <td>5</td>\n",
       "      <td>...</td>\n",
       "      <td>3</td>\n",
       "      <td>80</td>\n",
       "      <td>0</td>\n",
       "      <td>8</td>\n",
       "      <td>3</td>\n",
       "      <td>3</td>\n",
       "      <td>8</td>\n",
       "      <td>7</td>\n",
       "      <td>3</td>\n",
       "      <td>0</td>\n",
       "    </tr>\n",
       "    <tr>\n",
       "      <th>4</th>\n",
       "      <td>27</td>\n",
       "      <td>No</td>\n",
       "      <td>Travel_Rarely</td>\n",
       "      <td>591</td>\n",
       "      <td>Research &amp; Development</td>\n",
       "      <td>2</td>\n",
       "      <td>1</td>\n",
       "      <td>Medical</td>\n",
       "      <td>1</td>\n",
       "      <td>7</td>\n",
       "      <td>...</td>\n",
       "      <td>4</td>\n",
       "      <td>80</td>\n",
       "      <td>1</td>\n",
       "      <td>6</td>\n",
       "      <td>3</td>\n",
       "      <td>3</td>\n",
       "      <td>2</td>\n",
       "      <td>2</td>\n",
       "      <td>2</td>\n",
       "      <td>2</td>\n",
       "    </tr>\n",
       "  </tbody>\n",
       "</table>\n",
       "<p>5 rows × 35 columns</p>\n",
       "</div>"
      ],
      "text/plain": [
       "   Age Attrition     BusinessTravel  DailyRate              Department  \\\n",
       "0   41       Yes      Travel_Rarely       1102                   Sales   \n",
       "1   49        No  Travel_Frequently        279  Research & Development   \n",
       "2   37       Yes      Travel_Rarely       1373  Research & Development   \n",
       "3   33        No  Travel_Frequently       1392  Research & Development   \n",
       "4   27        No      Travel_Rarely        591  Research & Development   \n",
       "\n",
       "   DistanceFromHome  Education EducationField  EmployeeCount  EmployeeNumber  \\\n",
       "0                 1          2  Life Sciences              1               1   \n",
       "1                 8          1  Life Sciences              1               2   \n",
       "2                 2          2          Other              1               4   \n",
       "3                 3          4  Life Sciences              1               5   \n",
       "4                 2          1        Medical              1               7   \n",
       "\n",
       "   ...  RelationshipSatisfaction StandardHours  StockOptionLevel  \\\n",
       "0  ...                         1            80                 0   \n",
       "1  ...                         4            80                 1   \n",
       "2  ...                         2            80                 0   \n",
       "3  ...                         3            80                 0   \n",
       "4  ...                         4            80                 1   \n",
       "\n",
       "   TotalWorkingYears  TrainingTimesLastYear WorkLifeBalance  YearsAtCompany  \\\n",
       "0                  8                      0               1               6   \n",
       "1                 10                      3               3              10   \n",
       "2                  7                      3               3               0   \n",
       "3                  8                      3               3               8   \n",
       "4                  6                      3               3               2   \n",
       "\n",
       "  YearsInCurrentRole  YearsSinceLastPromotion  YearsWithCurrManager  \n",
       "0                  4                        0                     5  \n",
       "1                  7                        1                     7  \n",
       "2                  0                        0                     0  \n",
       "3                  7                        3                     0  \n",
       "4                  2                        2                     2  \n",
       "\n",
       "[5 rows x 35 columns]"
      ]
     },
     "execution_count": 3,
     "metadata": {},
     "output_type": "execute_result"
    }
   ],
   "source": [
    "df.head(5)"
   ]
  },
  {
   "cell_type": "code",
   "execution_count": 4,
   "id": "14c56441",
   "metadata": {},
   "outputs": [
    {
     "data": {
      "text/plain": [
       "Index(['Age', 'Attrition', 'BusinessTravel', 'DailyRate', 'Department',\n",
       "       'DistanceFromHome', 'Education', 'EducationField', 'EmployeeCount',\n",
       "       'EmployeeNumber', 'EnvironmentSatisfaction', 'Gender', 'HourlyRate',\n",
       "       'JobInvolvement', 'JobLevel', 'JobRole', 'JobSatisfaction',\n",
       "       'MaritalStatus', 'MonthlyIncome', 'MonthlyRate', 'NumCompaniesWorked',\n",
       "       'Over18', 'OverTime', 'PercentSalaryHike', 'PerformanceRating',\n",
       "       'RelationshipSatisfaction', 'StandardHours', 'StockOptionLevel',\n",
       "       'TotalWorkingYears', 'TrainingTimesLastYear', 'WorkLifeBalance',\n",
       "       'YearsAtCompany', 'YearsInCurrentRole', 'YearsSinceLastPromotion',\n",
       "       'YearsWithCurrManager'],\n",
       "      dtype='object')"
      ]
     },
     "execution_count": 4,
     "metadata": {},
     "output_type": "execute_result"
    }
   ],
   "source": [
    "df.columns"
   ]
  },
  {
   "cell_type": "code",
   "execution_count": 5,
   "id": "9b78b6b8",
   "metadata": {},
   "outputs": [
    {
     "data": {
      "text/plain": [
       "(1470, 35)"
      ]
     },
     "execution_count": 5,
     "metadata": {},
     "output_type": "execute_result"
    }
   ],
   "source": [
    "df.shape"
   ]
  },
  {
   "cell_type": "code",
   "execution_count": 6,
   "id": "084405f0",
   "metadata": {},
   "outputs": [
    {
     "data": {
      "text/plain": [
       "Age                          int64\n",
       "Attrition                   object\n",
       "BusinessTravel              object\n",
       "DailyRate                    int64\n",
       "Department                  object\n",
       "DistanceFromHome             int64\n",
       "Education                    int64\n",
       "EducationField              object\n",
       "EmployeeCount                int64\n",
       "EmployeeNumber               int64\n",
       "EnvironmentSatisfaction      int64\n",
       "Gender                      object\n",
       "HourlyRate                   int64\n",
       "JobInvolvement               int64\n",
       "JobLevel                     int64\n",
       "JobRole                     object\n",
       "JobSatisfaction              int64\n",
       "MaritalStatus               object\n",
       "MonthlyIncome                int64\n",
       "MonthlyRate                  int64\n",
       "NumCompaniesWorked           int64\n",
       "Over18                      object\n",
       "OverTime                    object\n",
       "PercentSalaryHike            int64\n",
       "PerformanceRating            int64\n",
       "RelationshipSatisfaction     int64\n",
       "StandardHours                int64\n",
       "StockOptionLevel             int64\n",
       "TotalWorkingYears            int64\n",
       "TrainingTimesLastYear        int64\n",
       "WorkLifeBalance              int64\n",
       "YearsAtCompany               int64\n",
       "YearsInCurrentRole           int64\n",
       "YearsSinceLastPromotion      int64\n",
       "YearsWithCurrManager         int64\n",
       "dtype: object"
      ]
     },
     "execution_count": 6,
     "metadata": {},
     "output_type": "execute_result"
    }
   ],
   "source": [
    "df.dtypes"
   ]
  },
  {
   "cell_type": "code",
   "execution_count": 7,
   "id": "401bad30",
   "metadata": {},
   "outputs": [
    {
     "data": {
      "text/html": [
       "<div>\n",
       "<style scoped>\n",
       "    .dataframe tbody tr th:only-of-type {\n",
       "        vertical-align: middle;\n",
       "    }\n",
       "\n",
       "    .dataframe tbody tr th {\n",
       "        vertical-align: top;\n",
       "    }\n",
       "\n",
       "    .dataframe thead th {\n",
       "        text-align: right;\n",
       "    }\n",
       "</style>\n",
       "<table border=\"1\" class=\"dataframe\">\n",
       "  <thead>\n",
       "    <tr style=\"text-align: right;\">\n",
       "      <th></th>\n",
       "      <th>Features</th>\n",
       "      <th>Unique Number</th>\n",
       "      <th>Values</th>\n",
       "    </tr>\n",
       "  </thead>\n",
       "  <tbody>\n",
       "    <tr>\n",
       "      <th>0</th>\n",
       "      <td>Age</td>\n",
       "      <td>43</td>\n",
       "      <td>[41, 49, 37, 33, 27, 32, 59, 30, 38, 36, 35, 2...</td>\n",
       "    </tr>\n",
       "    <tr>\n",
       "      <th>1</th>\n",
       "      <td>Attrition</td>\n",
       "      <td>2</td>\n",
       "      <td>[Yes, No]</td>\n",
       "    </tr>\n",
       "    <tr>\n",
       "      <th>2</th>\n",
       "      <td>BusinessTravel</td>\n",
       "      <td>3</td>\n",
       "      <td>[Travel_Rarely, Travel_Frequently, Non-Travel]</td>\n",
       "    </tr>\n",
       "    <tr>\n",
       "      <th>3</th>\n",
       "      <td>DailyRate</td>\n",
       "      <td>886</td>\n",
       "      <td>[1102, 279, 1373, 1392, 591, 1005, 1324, 1358,...</td>\n",
       "    </tr>\n",
       "    <tr>\n",
       "      <th>4</th>\n",
       "      <td>Department</td>\n",
       "      <td>3</td>\n",
       "      <td>[Sales, Research &amp; Development, Human Resources]</td>\n",
       "    </tr>\n",
       "    <tr>\n",
       "      <th>5</th>\n",
       "      <td>DistanceFromHome</td>\n",
       "      <td>29</td>\n",
       "      <td>[1, 8, 2, 3, 24, 23, 27, 16, 15, 26, 19, 21, 5...</td>\n",
       "    </tr>\n",
       "    <tr>\n",
       "      <th>6</th>\n",
       "      <td>Education</td>\n",
       "      <td>5</td>\n",
       "      <td>[2, 1, 4, 3, 5]</td>\n",
       "    </tr>\n",
       "    <tr>\n",
       "      <th>7</th>\n",
       "      <td>EducationField</td>\n",
       "      <td>6</td>\n",
       "      <td>[Life Sciences, Other, Medical, Marketing, Tec...</td>\n",
       "    </tr>\n",
       "    <tr>\n",
       "      <th>8</th>\n",
       "      <td>EmployeeCount</td>\n",
       "      <td>1</td>\n",
       "      <td>[1]</td>\n",
       "    </tr>\n",
       "    <tr>\n",
       "      <th>9</th>\n",
       "      <td>EmployeeNumber</td>\n",
       "      <td>1470</td>\n",
       "      <td>[1, 2, 4, 5, 7, 8, 10, 11, 12, 13, 14, 15, 16,...</td>\n",
       "    </tr>\n",
       "    <tr>\n",
       "      <th>10</th>\n",
       "      <td>EnvironmentSatisfaction</td>\n",
       "      <td>4</td>\n",
       "      <td>[2, 3, 4, 1]</td>\n",
       "    </tr>\n",
       "    <tr>\n",
       "      <th>11</th>\n",
       "      <td>Gender</td>\n",
       "      <td>2</td>\n",
       "      <td>[Female, Male]</td>\n",
       "    </tr>\n",
       "    <tr>\n",
       "      <th>12</th>\n",
       "      <td>HourlyRate</td>\n",
       "      <td>71</td>\n",
       "      <td>[94, 61, 92, 56, 40, 79, 81, 67, 44, 84, 49, 3...</td>\n",
       "    </tr>\n",
       "    <tr>\n",
       "      <th>13</th>\n",
       "      <td>JobInvolvement</td>\n",
       "      <td>4</td>\n",
       "      <td>[3, 2, 4, 1]</td>\n",
       "    </tr>\n",
       "    <tr>\n",
       "      <th>14</th>\n",
       "      <td>JobLevel</td>\n",
       "      <td>5</td>\n",
       "      <td>[2, 1, 3, 4, 5]</td>\n",
       "    </tr>\n",
       "    <tr>\n",
       "      <th>15</th>\n",
       "      <td>JobRole</td>\n",
       "      <td>9</td>\n",
       "      <td>[Sales Executive, Research Scientist, Laborato...</td>\n",
       "    </tr>\n",
       "    <tr>\n",
       "      <th>16</th>\n",
       "      <td>JobSatisfaction</td>\n",
       "      <td>4</td>\n",
       "      <td>[4, 2, 3, 1]</td>\n",
       "    </tr>\n",
       "    <tr>\n",
       "      <th>17</th>\n",
       "      <td>MaritalStatus</td>\n",
       "      <td>3</td>\n",
       "      <td>[Single, Married, Divorced]</td>\n",
       "    </tr>\n",
       "    <tr>\n",
       "      <th>18</th>\n",
       "      <td>MonthlyIncome</td>\n",
       "      <td>1349</td>\n",
       "      <td>[5993, 5130, 2090, 2909, 3468, 3068, 2670, 269...</td>\n",
       "    </tr>\n",
       "    <tr>\n",
       "      <th>19</th>\n",
       "      <td>MonthlyRate</td>\n",
       "      <td>1427</td>\n",
       "      <td>[19479, 24907, 2396, 23159, 16632, 11864, 9964...</td>\n",
       "    </tr>\n",
       "    <tr>\n",
       "      <th>20</th>\n",
       "      <td>NumCompaniesWorked</td>\n",
       "      <td>10</td>\n",
       "      <td>[8, 1, 6, 9, 0, 4, 5, 2, 7, 3]</td>\n",
       "    </tr>\n",
       "    <tr>\n",
       "      <th>21</th>\n",
       "      <td>Over18</td>\n",
       "      <td>1</td>\n",
       "      <td>[Y]</td>\n",
       "    </tr>\n",
       "    <tr>\n",
       "      <th>22</th>\n",
       "      <td>OverTime</td>\n",
       "      <td>2</td>\n",
       "      <td>[Yes, No]</td>\n",
       "    </tr>\n",
       "    <tr>\n",
       "      <th>23</th>\n",
       "      <td>PercentSalaryHike</td>\n",
       "      <td>15</td>\n",
       "      <td>[11, 23, 15, 12, 13, 20, 22, 21, 17, 14, 16, 1...</td>\n",
       "    </tr>\n",
       "    <tr>\n",
       "      <th>24</th>\n",
       "      <td>PerformanceRating</td>\n",
       "      <td>2</td>\n",
       "      <td>[3, 4]</td>\n",
       "    </tr>\n",
       "    <tr>\n",
       "      <th>25</th>\n",
       "      <td>RelationshipSatisfaction</td>\n",
       "      <td>4</td>\n",
       "      <td>[1, 4, 2, 3]</td>\n",
       "    </tr>\n",
       "    <tr>\n",
       "      <th>26</th>\n",
       "      <td>StandardHours</td>\n",
       "      <td>1</td>\n",
       "      <td>[80]</td>\n",
       "    </tr>\n",
       "    <tr>\n",
       "      <th>27</th>\n",
       "      <td>StockOptionLevel</td>\n",
       "      <td>4</td>\n",
       "      <td>[0, 1, 3, 2]</td>\n",
       "    </tr>\n",
       "    <tr>\n",
       "      <th>28</th>\n",
       "      <td>TotalWorkingYears</td>\n",
       "      <td>40</td>\n",
       "      <td>[8, 10, 7, 6, 12, 1, 17, 5, 3, 31, 13, 0, 26, ...</td>\n",
       "    </tr>\n",
       "    <tr>\n",
       "      <th>29</th>\n",
       "      <td>TrainingTimesLastYear</td>\n",
       "      <td>7</td>\n",
       "      <td>[0, 3, 2, 5, 1, 4, 6]</td>\n",
       "    </tr>\n",
       "    <tr>\n",
       "      <th>30</th>\n",
       "      <td>WorkLifeBalance</td>\n",
       "      <td>4</td>\n",
       "      <td>[1, 3, 2, 4]</td>\n",
       "    </tr>\n",
       "    <tr>\n",
       "      <th>31</th>\n",
       "      <td>YearsAtCompany</td>\n",
       "      <td>37</td>\n",
       "      <td>[6, 10, 0, 8, 2, 7, 1, 9, 5, 4, 25, 3, 12, 14,...</td>\n",
       "    </tr>\n",
       "    <tr>\n",
       "      <th>32</th>\n",
       "      <td>YearsInCurrentRole</td>\n",
       "      <td>19</td>\n",
       "      <td>[4, 7, 0, 2, 5, 9, 8, 3, 6, 13, 1, 15, 14, 16,...</td>\n",
       "    </tr>\n",
       "    <tr>\n",
       "      <th>33</th>\n",
       "      <td>YearsSinceLastPromotion</td>\n",
       "      <td>16</td>\n",
       "      <td>[0, 1, 3, 2, 7, 4, 8, 6, 5, 15, 9, 13, 12, 10,...</td>\n",
       "    </tr>\n",
       "    <tr>\n",
       "      <th>34</th>\n",
       "      <td>YearsWithCurrManager</td>\n",
       "      <td>18</td>\n",
       "      <td>[5, 7, 0, 2, 6, 8, 3, 11, 17, 1, 4, 12, 9, 10,...</td>\n",
       "    </tr>\n",
       "  </tbody>\n",
       "</table>\n",
       "</div>"
      ],
      "text/plain": [
       "                    Features  Unique Number  \\\n",
       "0                        Age             43   \n",
       "1                  Attrition              2   \n",
       "2             BusinessTravel              3   \n",
       "3                  DailyRate            886   \n",
       "4                 Department              3   \n",
       "5           DistanceFromHome             29   \n",
       "6                  Education              5   \n",
       "7             EducationField              6   \n",
       "8              EmployeeCount              1   \n",
       "9             EmployeeNumber           1470   \n",
       "10   EnvironmentSatisfaction              4   \n",
       "11                    Gender              2   \n",
       "12                HourlyRate             71   \n",
       "13            JobInvolvement              4   \n",
       "14                  JobLevel              5   \n",
       "15                   JobRole              9   \n",
       "16           JobSatisfaction              4   \n",
       "17             MaritalStatus              3   \n",
       "18             MonthlyIncome           1349   \n",
       "19               MonthlyRate           1427   \n",
       "20        NumCompaniesWorked             10   \n",
       "21                    Over18              1   \n",
       "22                  OverTime              2   \n",
       "23         PercentSalaryHike             15   \n",
       "24         PerformanceRating              2   \n",
       "25  RelationshipSatisfaction              4   \n",
       "26             StandardHours              1   \n",
       "27          StockOptionLevel              4   \n",
       "28         TotalWorkingYears             40   \n",
       "29     TrainingTimesLastYear              7   \n",
       "30           WorkLifeBalance              4   \n",
       "31            YearsAtCompany             37   \n",
       "32        YearsInCurrentRole             19   \n",
       "33   YearsSinceLastPromotion             16   \n",
       "34      YearsWithCurrManager             18   \n",
       "\n",
       "                                               Values  \n",
       "0   [41, 49, 37, 33, 27, 32, 59, 30, 38, 36, 35, 2...  \n",
       "1                                           [Yes, No]  \n",
       "2      [Travel_Rarely, Travel_Frequently, Non-Travel]  \n",
       "3   [1102, 279, 1373, 1392, 591, 1005, 1324, 1358,...  \n",
       "4    [Sales, Research & Development, Human Resources]  \n",
       "5   [1, 8, 2, 3, 24, 23, 27, 16, 15, 26, 19, 21, 5...  \n",
       "6                                     [2, 1, 4, 3, 5]  \n",
       "7   [Life Sciences, Other, Medical, Marketing, Tec...  \n",
       "8                                                 [1]  \n",
       "9   [1, 2, 4, 5, 7, 8, 10, 11, 12, 13, 14, 15, 16,...  \n",
       "10                                       [2, 3, 4, 1]  \n",
       "11                                     [Female, Male]  \n",
       "12  [94, 61, 92, 56, 40, 79, 81, 67, 44, 84, 49, 3...  \n",
       "13                                       [3, 2, 4, 1]  \n",
       "14                                    [2, 1, 3, 4, 5]  \n",
       "15  [Sales Executive, Research Scientist, Laborato...  \n",
       "16                                       [4, 2, 3, 1]  \n",
       "17                        [Single, Married, Divorced]  \n",
       "18  [5993, 5130, 2090, 2909, 3468, 3068, 2670, 269...  \n",
       "19  [19479, 24907, 2396, 23159, 16632, 11864, 9964...  \n",
       "20                     [8, 1, 6, 9, 0, 4, 5, 2, 7, 3]  \n",
       "21                                                [Y]  \n",
       "22                                          [Yes, No]  \n",
       "23  [11, 23, 15, 12, 13, 20, 22, 21, 17, 14, 16, 1...  \n",
       "24                                             [3, 4]  \n",
       "25                                       [1, 4, 2, 3]  \n",
       "26                                               [80]  \n",
       "27                                       [0, 1, 3, 2]  \n",
       "28  [8, 10, 7, 6, 12, 1, 17, 5, 3, 31, 13, 0, 26, ...  \n",
       "29                              [0, 3, 2, 5, 1, 4, 6]  \n",
       "30                                       [1, 3, 2, 4]  \n",
       "31  [6, 10, 0, 8, 2, 7, 1, 9, 5, 4, 25, 3, 12, 14,...  \n",
       "32  [4, 7, 0, 2, 5, 9, 8, 3, 6, 13, 1, 15, 14, 16,...  \n",
       "33  [0, 1, 3, 2, 7, 4, 8, 6, 5, 15, 9, 13, 12, 10,...  \n",
       "34  [5, 7, 0, 2, 6, 8, 3, 11, 17, 1, 4, 12, 9, 10,...  "
      ]
     },
     "execution_count": 7,
     "metadata": {},
     "output_type": "execute_result"
    }
   ],
   "source": [
    "#nunique returns the number of unique elements\n",
    "#dataframe consisting of all features and their unique values\n",
    "dfFeatures = []\n",
    "for i in df.columns:\n",
    "    dfFeatures.append([i, df[i].nunique(), df[i].drop_duplicates().values])\n",
    "pd.DataFrame(dfFeatures, columns = ['Features', 'Unique Number', 'Values'])"
   ]
  },
  {
   "cell_type": "code",
   "execution_count": 8,
   "id": "ce97b972",
   "metadata": {},
   "outputs": [
    {
     "data": {
      "text/plain": [
       "<AxesSubplot:>"
      ]
     },
     "execution_count": 8,
     "metadata": {},
     "output_type": "execute_result"
    },
    {
     "data": {
      "image/png": "[encoded data removed]",
      "text/plain": [
       "<Figure size 432x288 with 2 Axes>"
      ]
     },
     "metadata": {
      "needs_background": "light"
     },
     "output_type": "display_data"
    }
   ],
   "source": [
    "#heatmap to visualise missing values\n",
    "sns.heatmap(df.isnull(),yticklabels = False, cmap = 'viridis')"
   ]
  },
  {
   "cell_type": "markdown",
   "id": "5732b500",
   "metadata": {},
   "source": [
    "Thus, no missing values."
   ]
  },
  {
   "cell_type": "markdown",
   "id": "029c9548",
   "metadata": {},
   "source": [
    "## Data Preprocessing"
   ]
  },
  {
   "cell_type": "markdown",
   "id": "c20e39b2",
   "metadata": {},
   "source": [
    "Encoding is required for Attrition, BusineesTravel, Department, EducationField, Gender, JobRole, MartialStatus and OverTime.\n",
    "We will be dropping EmployeeCount, Over18 and StandardHours because they have same value throughout."
   ]
  },
  {
   "cell_type": "code",
   "execution_count": 9,
   "id": "0f66ce40",
   "metadata": {},
   "outputs": [],
   "source": [
    "df.drop(['EmployeeCount', 'Over18', 'StandardHours'], axis = 'columns', inplace = True)"
   ]
  },
  {
   "cell_type": "code",
   "execution_count": 10,
   "id": "4ddf5151",
   "metadata": {},
   "outputs": [
    {
     "data": {
      "text/plain": [
       "(1470, 32)"
      ]
     },
     "execution_count": 10,
     "metadata": {},
     "output_type": "execute_result"
    }
   ],
   "source": [
    "df.shape"
   ]
  },
  {
   "cell_type": "code",
   "execution_count": 11,
   "id": "bdf65c17",
   "metadata": {},
   "outputs": [],
   "source": [
    "df['Attrition'].replace(to_replace = 'Yes', value = '1', inplace = True)\n",
    "df['Attrition'].replace(to_replace = 'No', value = '0', inplace = True)"
   ]
  },
  {
   "cell_type": "code",
   "execution_count": 12,
   "id": "059b14fb",
   "metadata": {},
   "outputs": [],
   "source": [
    "df['OverTime'].replace(to_replace = 'Yes', value = '1', inplace = True)\n",
    "df['OverTime'].replace(to_replace = 'No', value = '0', inplace = True)"
   ]
  },
  {
   "cell_type": "code",
   "execution_count": 13,
   "id": "b2891e52",
   "metadata": {},
   "outputs": [],
   "source": [
    "df['Gender'].replace(to_replace = 'Female', value = '1', inplace = True)\n",
    "df['Gender'].replace(to_replace = 'Male', value = '0', inplace = True)"
   ]
  },
  {
   "cell_type": "markdown",
   "id": "518b29db",
   "metadata": {},
   "source": [
    "The encoding of the rest of the variables will be done through one hot encoding via get_dummies (for Department, EducationField, JobRole, MaritallStatus) and LabelEncoder (for Business Travel)."
   ]
  },
  {
   "cell_type": "code",
   "execution_count": 14,
   "id": "aff038e4",
   "metadata": {},
   "outputs": [],
   "source": [
    "df = pd.get_dummies(df, columns = ['Department', 'EducationField', 'JobRole', 'MaritalStatus'], drop_first = True)"
   ]
  },
  {
   "cell_type": "code",
   "execution_count": 15,
   "id": "433e6351",
   "metadata": {},
   "outputs": [
    {
     "data": {
      "text/plain": [
       "(1470, 45)"
      ]
     },
     "execution_count": 15,
     "metadata": {},
     "output_type": "execute_result"
    }
   ],
   "source": [
    "df.shape"
   ]
  },
  {
   "cell_type": "code",
   "execution_count": 16,
   "id": "091e81f7",
   "metadata": {},
   "outputs": [],
   "source": [
    "from sklearn.preprocessing import LabelEncoder"
   ]
  },
  {
   "cell_type": "code",
   "execution_count": 17,
   "id": "9f8ade4c",
   "metadata": {},
   "outputs": [],
   "source": [
    "lb = LabelEncoder()"
   ]
  },
  {
   "cell_type": "code",
   "execution_count": 18,
   "id": "bbac8fce",
   "metadata": {},
   "outputs": [],
   "source": [
    "df['BusinessTravel'] = lb.fit_transform(df['BusinessTravel'])"
   ]
  },
  {
   "cell_type": "code",
   "execution_count": 19,
   "id": "7b1a84b3",
   "metadata": {},
   "outputs": [
    {
     "data": {
      "text/plain": [
       "Index(['Age', 'Attrition', 'BusinessTravel', 'DailyRate', 'DistanceFromHome',\n",
       "       'Education', 'EmployeeNumber', 'EnvironmentSatisfaction', 'Gender',\n",
       "       'HourlyRate', 'JobInvolvement', 'JobLevel', 'JobSatisfaction',\n",
       "       'MonthlyIncome', 'MonthlyRate', 'NumCompaniesWorked', 'OverTime',\n",
       "       'PercentSalaryHike', 'PerformanceRating', 'RelationshipSatisfaction',\n",
       "       'StockOptionLevel', 'TotalWorkingYears', 'TrainingTimesLastYear',\n",
       "       'WorkLifeBalance', 'YearsAtCompany', 'YearsInCurrentRole',\n",
       "       'YearsSinceLastPromotion', 'YearsWithCurrManager',\n",
       "       'Department_Research & Development', 'Department_Sales',\n",
       "       'EducationField_Life Sciences', 'EducationField_Marketing',\n",
       "       'EducationField_Medical', 'EducationField_Other',\n",
       "       'EducationField_Technical Degree', 'JobRole_Human Resources',\n",
       "       'JobRole_Laboratory Technician', 'JobRole_Manager',\n",
       "       'JobRole_Manufacturing Director', 'JobRole_Research Director',\n",
       "       'JobRole_Research Scientist', 'JobRole_Sales Executive',\n",
       "       'JobRole_Sales Representative', 'MaritalStatus_Married',\n",
       "       'MaritalStatus_Single'],\n",
       "      dtype='object')"
      ]
     },
     "execution_count": 19,
     "metadata": {},
     "output_type": "execute_result"
    }
   ],
   "source": [
    "df.columns"
   ]
  },
  {
   "cell_type": "code",
   "execution_count": 20,
   "id": "6104308f",
   "metadata": {},
   "outputs": [],
   "source": [
    "df.drop(['EmployeeNumber'], axis = 'columns', inplace = True)"
   ]
  },
  {
   "cell_type": "markdown",
   "id": "6b8913d3",
   "metadata": {},
   "source": [
    "We are now done with encoding and dropping of variables which are not necessary."
   ]
  },
  {
   "cell_type": "code",
   "execution_count": 21,
   "id": "3256f860",
   "metadata": {},
   "outputs": [
    {
     "data": {
      "text/plain": [
       "<AxesSubplot:xlabel='Attrition', ylabel='count'>"
      ]
     },
     "execution_count": 21,
     "metadata": {},
     "output_type": "execute_result"
    },
    {
     "data": {
      "image/png": "[encoded data removed]",
      "text/plain": [
       "<Figure size 432x288 with 1 Axes>"
      ]
     },
     "metadata": {
      "needs_background": "light"
     },
     "output_type": "display_data"
    }
   ],
   "source": [
    "sns.countplot(data = df, x = 'Attrition')"
   ]
  },
  {
   "cell_type": "markdown",
   "id": "0e0405c5",
   "metadata": {},
   "source": [
    "The dataset is imbalanced. This can be treated by doing undersampling or oversampling. But we will skip that for the time being."
   ]
  },
  {
   "cell_type": "markdown",
   "id": "cc5c6dda",
   "metadata": {},
   "source": [
    "As for the models, I will use two algorithms: KNN and Random Forest."
   ]
  },
  {
   "cell_type": "markdown",
   "id": "26dc8c17",
   "metadata": {},
   "source": [
    "## Feature Selection"
   ]
  },
  {
   "cell_type": "markdown",
   "id": "b8821caa",
   "metadata": {},
   "source": [
    "We will be going forward with univariate method for feature selection, in which we only select 'k' best attributes which have the strongest relationship with the target variable. Chi square test is done for this purpose."
   ]
  },
  {
   "cell_type": "code",
   "execution_count": 22,
   "id": "b8a80315",
   "metadata": {},
   "outputs": [],
   "source": [
    "from sklearn.feature_selection import SelectKBest, chi2 "
   ]
  },
  {
   "cell_type": "code",
   "execution_count": 23,
   "id": "8013fdff",
   "metadata": {},
   "outputs": [],
   "source": [
    "X = df.drop(['Attrition'], axis = 'columns') #independent\n",
    "y = df['Attrition'] #target"
   ]
  },
  {
   "cell_type": "code",
   "execution_count": 24,
   "id": "90e3cec2",
   "metadata": {},
   "outputs": [
    {
     "data": {
      "text/plain": [
       "Index(['Age', 'BusinessTravel', 'DailyRate', 'DistanceFromHome', 'Education',\n",
       "       'EnvironmentSatisfaction', 'Gender', 'HourlyRate', 'JobInvolvement',\n",
       "       'JobLevel', 'JobSatisfaction', 'MonthlyIncome', 'MonthlyRate',\n",
       "       'NumCompaniesWorked', 'OverTime', 'PercentSalaryHike',\n",
       "       'PerformanceRating', 'RelationshipSatisfaction', 'StockOptionLevel',\n",
       "       'TotalWorkingYears', 'TrainingTimesLastYear', 'WorkLifeBalance',\n",
       "       'YearsAtCompany', 'YearsInCurrentRole', 'YearsSinceLastPromotion',\n",
       "       'YearsWithCurrManager', 'Department_Research & Development',\n",
       "       'Department_Sales', 'EducationField_Life Sciences',\n",
       "       'EducationField_Marketing', 'EducationField_Medical',\n",
       "       'EducationField_Other', 'EducationField_Technical Degree',\n",
       "       'JobRole_Human Resources', 'JobRole_Laboratory Technician',\n",
       "       'JobRole_Manager', 'JobRole_Manufacturing Director',\n",
       "       'JobRole_Research Director', 'JobRole_Research Scientist',\n",
       "       'JobRole_Sales Executive', 'JobRole_Sales Representative',\n",
       "       'MaritalStatus_Married', 'MaritalStatus_Single'],\n",
       "      dtype='object')"
      ]
     },
     "execution_count": 24,
     "metadata": {},
     "output_type": "execute_result"
    }
   ],
   "source": [
    "X.columns"
   ]
  },
  {
   "cell_type": "code",
   "execution_count": 25,
   "id": "f795da0d",
   "metadata": {},
   "outputs": [],
   "source": [
    "#will extract top 15 highest score features\n",
    "bestfeatures = SelectKBest(score_func = chi2, k = 15)\n",
    "fit = bestfeatures.fit(X,y)"
   ]
  },
  {
   "cell_type": "code",
   "execution_count": 26,
   "id": "4c89c930",
   "metadata": {},
   "outputs": [],
   "source": [
    "dfscores = pd.DataFrame(fit.scores_) #scores wrt chi2 test for each feature considering target \n",
    "dfcolumns = pd.DataFrame(X.columns)"
   ]
  },
  {
   "cell_type": "code",
   "execution_count": 27,
   "id": "b298dff6",
   "metadata": {},
   "outputs": [],
   "source": [
    "featureScores = pd.concat([dfcolumns,dfscores], axis = 'columns')\n",
    "featureScores.columns = ['Feature Name', 'Score']"
   ]
  },
  {
   "cell_type": "code",
   "execution_count": 28,
   "id": "f7e3322d",
   "metadata": {},
   "outputs": [
    {
     "data": {
      "text/html": [
       "<div>\n",
       "<style scoped>\n",
       "    .dataframe tbody tr th:only-of-type {\n",
       "        vertical-align: middle;\n",
       "    }\n",
       "\n",
       "    .dataframe tbody tr th {\n",
       "        vertical-align: top;\n",
       "    }\n",
       "\n",
       "    .dataframe thead th {\n",
       "        text-align: right;\n",
       "    }\n",
       "</style>\n",
       "<table border=\"1\" class=\"dataframe\">\n",
       "  <thead>\n",
       "    <tr style=\"text-align: right;\">\n",
       "      <th></th>\n",
       "      <th>Feature Name</th>\n",
       "      <th>Score</th>\n",
       "    </tr>\n",
       "  </thead>\n",
       "  <tbody>\n",
       "    <tr>\n",
       "      <th>0</th>\n",
       "      <td>Age</td>\n",
       "      <td>84.155277</td>\n",
       "    </tr>\n",
       "    <tr>\n",
       "      <th>1</th>\n",
       "      <td>BusinessTravel</td>\n",
       "      <td>0.000002</td>\n",
       "    </tr>\n",
       "    <tr>\n",
       "      <th>2</th>\n",
       "      <td>DailyRate</td>\n",
       "      <td>956.580494</td>\n",
       "    </tr>\n",
       "    <tr>\n",
       "      <th>3</th>\n",
       "      <td>DistanceFromHome</td>\n",
       "      <td>63.772142</td>\n",
       "    </tr>\n",
       "    <tr>\n",
       "      <th>4</th>\n",
       "      <td>Education</td>\n",
       "      <td>0.520642</td>\n",
       "    </tr>\n",
       "    <tr>\n",
       "      <th>5</th>\n",
       "      <td>EnvironmentSatisfaction</td>\n",
       "      <td>6.890594</td>\n",
       "    </tr>\n",
       "    <tr>\n",
       "      <th>6</th>\n",
       "      <td>Gender</td>\n",
       "      <td>0.765130</td>\n",
       "    </tr>\n",
       "    <tr>\n",
       "      <th>7</th>\n",
       "      <td>HourlyRate</td>\n",
       "      <td>0.431779</td>\n",
       "    </tr>\n",
       "    <tr>\n",
       "      <th>8</th>\n",
       "      <td>JobInvolvement</td>\n",
       "      <td>4.605616</td>\n",
       "    </tr>\n",
       "    <tr>\n",
       "      <th>9</th>\n",
       "      <td>JobLevel</td>\n",
       "      <td>24.939242</td>\n",
       "    </tr>\n",
       "    <tr>\n",
       "      <th>10</th>\n",
       "      <td>JobSatisfaction</td>\n",
       "      <td>7.011947</td>\n",
       "    </tr>\n",
       "    <tr>\n",
       "      <th>11</th>\n",
       "      <td>MonthlyIncome</td>\n",
       "      <td>127922.293694</td>\n",
       "    </tr>\n",
       "    <tr>\n",
       "      <th>12</th>\n",
       "      <td>MonthlyRate</td>\n",
       "      <td>1196.633553</td>\n",
       "    </tr>\n",
       "    <tr>\n",
       "      <th>13</th>\n",
       "      <td>NumCompaniesWorked</td>\n",
       "      <td>6.438654</td>\n",
       "    </tr>\n",
       "    <tr>\n",
       "      <th>14</th>\n",
       "      <td>OverTime</td>\n",
       "      <td>63.845067</td>\n",
       "    </tr>\n",
       "    <tr>\n",
       "      <th>15</th>\n",
       "      <td>PercentSalaryHike</td>\n",
       "      <td>0.235027</td>\n",
       "    </tr>\n",
       "    <tr>\n",
       "      <th>16</th>\n",
       "      <td>PerformanceRating</td>\n",
       "      <td>0.000506</td>\n",
       "    </tr>\n",
       "    <tr>\n",
       "      <th>17</th>\n",
       "      <td>RelationshipSatisfaction</td>\n",
       "      <td>1.332333</td>\n",
       "    </tr>\n",
       "    <tr>\n",
       "      <th>18</th>\n",
       "      <td>StockOptionLevel</td>\n",
       "      <td>25.268826</td>\n",
       "    </tr>\n",
       "    <tr>\n",
       "      <th>19</th>\n",
       "      <td>TotalWorkingYears</td>\n",
       "      <td>230.721618</td>\n",
       "    </tr>\n",
       "    <tr>\n",
       "      <th>20</th>\n",
       "      <td>TrainingTimesLastYear</td>\n",
       "      <td>3.085796</td>\n",
       "    </tr>\n",
       "    <tr>\n",
       "      <th>21</th>\n",
       "      <td>WorkLifeBalance</td>\n",
       "      <td>1.085543</td>\n",
       "    </tr>\n",
       "    <tr>\n",
       "      <th>22</th>\n",
       "      <td>YearsAtCompany</td>\n",
       "      <td>142.100054</td>\n",
       "    </tr>\n",
       "    <tr>\n",
       "      <th>23</th>\n",
       "      <td>YearsInCurrentRole</td>\n",
       "      <td>117.522596</td>\n",
       "    </tr>\n",
       "    <tr>\n",
       "      <th>24</th>\n",
       "      <td>YearsSinceLastPromotion</td>\n",
       "      <td>7.601723</td>\n",
       "    </tr>\n",
       "    <tr>\n",
       "      <th>25</th>\n",
       "      <td>YearsWithCurrManager</td>\n",
       "      <td>110.671534</td>\n",
       "    </tr>\n",
       "    <tr>\n",
       "      <th>26</th>\n",
       "      <td>Department_Research &amp; Development</td>\n",
       "      <td>3.702916</td>\n",
       "    </tr>\n",
       "    <tr>\n",
       "      <th>27</th>\n",
       "      <td>Department_Sales</td>\n",
       "      <td>6.694465</td>\n",
       "    </tr>\n",
       "    <tr>\n",
       "      <th>28</th>\n",
       "      <td>EducationField_Life Sciences</td>\n",
       "      <td>0.924044</td>\n",
       "    </tr>\n",
       "    <tr>\n",
       "      <th>29</th>\n",
       "      <td>EducationField_Marketing</td>\n",
       "      <td>4.079154</td>\n",
       "    </tr>\n",
       "    <tr>\n",
       "      <th>30</th>\n",
       "      <td>EducationField_Medical</td>\n",
       "      <td>2.222133</td>\n",
       "    </tr>\n",
       "    <tr>\n",
       "      <th>31</th>\n",
       "      <td>EducationField_Other</td>\n",
       "      <td>0.444606</td>\n",
       "    </tr>\n",
       "    <tr>\n",
       "      <th>32</th>\n",
       "      <td>EducationField_Technical Degree</td>\n",
       "      <td>6.435860</td>\n",
       "    </tr>\n",
       "    <tr>\n",
       "      <th>33</th>\n",
       "      <td>JobRole_Human Resources</td>\n",
       "      <td>1.859753</td>\n",
       "    </tr>\n",
       "    <tr>\n",
       "      <th>34</th>\n",
       "      <td>JobRole_Laboratory Technician</td>\n",
       "      <td>11.699495</td>\n",
       "    </tr>\n",
       "    <tr>\n",
       "      <th>35</th>\n",
       "      <td>JobRole_Manager</td>\n",
       "      <td>9.496136</td>\n",
       "    </tr>\n",
       "    <tr>\n",
       "      <th>36</th>\n",
       "      <td>JobRole_Manufacturing Director</td>\n",
       "      <td>9.126589</td>\n",
       "    </tr>\n",
       "    <tr>\n",
       "      <th>37</th>\n",
       "      <td>JobRole_Research Director</td>\n",
       "      <td>10.978010</td>\n",
       "    </tr>\n",
       "    <tr>\n",
       "      <th>38</th>\n",
       "      <td>JobRole_Research Scientist</td>\n",
       "      <td>0.000152</td>\n",
       "    </tr>\n",
       "    <tr>\n",
       "      <th>39</th>\n",
       "      <td>JobRole_Sales Executive</td>\n",
       "      <td>0.447333</td>\n",
       "    </tr>\n",
       "    <tr>\n",
       "      <th>40</th>\n",
       "      <td>JobRole_Sales Representative</td>\n",
       "      <td>34.290268</td>\n",
       "    </tr>\n",
       "    <tr>\n",
       "      <th>41</th>\n",
       "      <td>MaritalStatus_Married</td>\n",
       "      <td>6.597586</td>\n",
       "    </tr>\n",
       "    <tr>\n",
       "      <th>42</th>\n",
       "      <td>MaritalStatus_Single</td>\n",
       "      <td>30.771669</td>\n",
       "    </tr>\n",
       "  </tbody>\n",
       "</table>\n",
       "</div>"
      ],
      "text/plain": [
       "                         Feature Name          Score\n",
       "0                                 Age      84.155277\n",
       "1                      BusinessTravel       0.000002\n",
       "2                           DailyRate     956.580494\n",
       "3                    DistanceFromHome      63.772142\n",
       "4                           Education       0.520642\n",
       "5             EnvironmentSatisfaction       6.890594\n",
       "6                              Gender       0.765130\n",
       "7                          HourlyRate       0.431779\n",
       "8                      JobInvolvement       4.605616\n",
       "9                            JobLevel      24.939242\n",
       "10                    JobSatisfaction       7.011947\n",
       "11                      MonthlyIncome  127922.293694\n",
       "12                        MonthlyRate    1196.633553\n",
       "13                 NumCompaniesWorked       6.438654\n",
       "14                           OverTime      63.845067\n",
       "15                  PercentSalaryHike       0.235027\n",
       "16                  PerformanceRating       0.000506\n",
       "17           RelationshipSatisfaction       1.332333\n",
       "18                   StockOptionLevel      25.268826\n",
       "19                  TotalWorkingYears     230.721618\n",
       "20              TrainingTimesLastYear       3.085796\n",
       "21                    WorkLifeBalance       1.085543\n",
       "22                     YearsAtCompany     142.100054\n",
       "23                 YearsInCurrentRole     117.522596\n",
       "24            YearsSinceLastPromotion       7.601723\n",
       "25               YearsWithCurrManager     110.671534\n",
       "26  Department_Research & Development       3.702916\n",
       "27                   Department_Sales       6.694465\n",
       "28       EducationField_Life Sciences       0.924044\n",
       "29           EducationField_Marketing       4.079154\n",
       "30             EducationField_Medical       2.222133\n",
       "31               EducationField_Other       0.444606\n",
       "32    EducationField_Technical Degree       6.435860\n",
       "33            JobRole_Human Resources       1.859753\n",
       "34      JobRole_Laboratory Technician      11.699495\n",
       "35                    JobRole_Manager       9.496136\n",
       "36     JobRole_Manufacturing Director       9.126589\n",
       "37          JobRole_Research Director      10.978010\n",
       "38         JobRole_Research Scientist       0.000152\n",
       "39            JobRole_Sales Executive       0.447333\n",
       "40       JobRole_Sales Representative      34.290268\n",
       "41              MaritalStatus_Married       6.597586\n",
       "42               MaritalStatus_Single      30.771669"
      ]
     },
     "execution_count": 28,
     "metadata": {},
     "output_type": "execute_result"
    }
   ],
   "source": [
    "featureScores"
   ]
  },
  {
   "cell_type": "code",
   "execution_count": 29,
   "id": "3b68adb4",
   "metadata": {},
   "outputs": [
    {
     "name": "stdout",
     "output_type": "stream",
     "text": [
      "                     Feature Name          Score\n",
      "11                  MonthlyIncome  127922.293694\n",
      "12                    MonthlyRate    1196.633553\n",
      "2                       DailyRate     956.580494\n",
      "19              TotalWorkingYears     230.721618\n",
      "22                 YearsAtCompany     142.100054\n",
      "23             YearsInCurrentRole     117.522596\n",
      "25           YearsWithCurrManager     110.671534\n",
      "0                             Age      84.155277\n",
      "14                       OverTime      63.845067\n",
      "3                DistanceFromHome      63.772142\n",
      "40   JobRole_Sales Representative      34.290268\n",
      "42           MaritalStatus_Single      30.771669\n",
      "18               StockOptionLevel      25.268826\n",
      "9                        JobLevel      24.939242\n",
      "34  JobRole_Laboratory Technician      11.699495\n"
     ]
    }
   ],
   "source": [
    "#top 15 features\n",
    "print(featureScores.nlargest(15,'Score'))"
   ]
  },
  {
   "cell_type": "markdown",
   "id": "5231e6f4",
   "metadata": {},
   "source": [
    "These are the selected features for our model."
   ]
  },
  {
   "cell_type": "code",
   "execution_count": 30,
   "id": "7a0c68ae",
   "metadata": {},
   "outputs": [],
   "source": [
    "X = df[['MonthlyIncome','MonthlyRate', 'DailyRate', 'TotalWorkingYears', 'YearsAtCompany',\n",
    "        'YearsInCurrentRole', 'YearsWithCurrManager', 'Age', 'OverTime', 'DistanceFromHome',\n",
    "        'JobRole_Human Resources', 'JobRole_Laboratory Technician', 'JobRole_Manager',\n",
    "        'JobRole_Manufacturing Director', 'JobRole_Research Director',\n",
    "        'JobRole_Research Scientist', 'JobRole_Sales Executive',\n",
    "        'JobRole_Sales Representative', 'MaritalStatus_Married',\n",
    "        'MaritalStatus_Single', 'StockOptionLevel', 'JobLevel']]"
   ]
  },
  {
   "cell_type": "code",
   "execution_count": 31,
   "id": "cd533e5f",
   "metadata": {},
   "outputs": [
    {
     "data": {
      "text/plain": [
       "Index(['MonthlyIncome', 'MonthlyRate', 'DailyRate', 'TotalWorkingYears',\n",
       "       'YearsAtCompany', 'YearsInCurrentRole', 'YearsWithCurrManager', 'Age',\n",
       "       'OverTime', 'DistanceFromHome', 'JobRole_Human Resources',\n",
       "       'JobRole_Laboratory Technician', 'JobRole_Manager',\n",
       "       'JobRole_Manufacturing Director', 'JobRole_Research Director',\n",
       "       'JobRole_Research Scientist', 'JobRole_Sales Executive',\n",
       "       'JobRole_Sales Representative', 'MaritalStatus_Married',\n",
       "       'MaritalStatus_Single', 'StockOptionLevel', 'JobLevel'],\n",
       "      dtype='object')"
      ]
     },
     "execution_count": 31,
     "metadata": {},
     "output_type": "execute_result"
    }
   ],
   "source": [
    "X.columns"
   ]
  },
  {
   "cell_type": "code",
   "execution_count": 32,
   "id": "e9bcd001",
   "metadata": {},
   "outputs": [],
   "source": [
    "y = df['Attrition']"
   ]
  },
  {
   "cell_type": "markdown",
   "id": "bc273c9a",
   "metadata": {},
   "source": [
    "# Prediction Models with K folds Cross Validation"
   ]
  },
  {
   "cell_type": "code",
   "execution_count": 33,
   "id": "4ac3b42f",
   "metadata": {},
   "outputs": [],
   "source": [
    "from sklearn.ensemble import RandomForestClassifier\n",
    "from sklearn.neighbors import KNeighborsClassifier"
   ]
  },
  {
   "cell_type": "code",
   "execution_count": 34,
   "id": "5a2dde25",
   "metadata": {},
   "outputs": [],
   "source": [
    "from sklearn.model_selection import train_test_split, cross_val_score\n",
    "from sklearn import metrics"
   ]
  },
  {
   "cell_type": "code",
   "execution_count": 35,
   "id": "54c766b3",
   "metadata": {},
   "outputs": [
    {
     "name": "stdout",
     "output_type": "stream",
     "text": [
      "0.8455782312925171\n"
     ]
    }
   ],
   "source": [
    "rf = RandomForestClassifier(n_estimators = 200, criterion = 'gini', max_depth = 3)\n",
    "print(cross_val_score(rf, X, y, cv = 10, scoring = 'accuracy').mean())"
   ]
  },
  {
   "cell_type": "code",
   "execution_count": 36,
   "id": "5730037e",
   "metadata": {},
   "outputs": [
    {
     "name": "stdout",
     "output_type": "stream",
     "text": [
      "0.8421768707482993\n"
     ]
    }
   ],
   "source": [
    "knn = KNeighborsClassifier(n_neighbors = 6)\n",
    "print(cross_val_score(knn, X, y, cv = 10, scoring = 'accuracy').mean())"
   ]
  },
  {
   "cell_type": "markdown",
   "id": "4555ac20",
   "metadata": {},
   "source": [
    "# Removing Imbalance in Dataset"
   ]
  },
  {
   "cell_type": "code",
   "execution_count": 37,
   "id": "10d168a8",
   "metadata": {},
   "outputs": [],
   "source": [
    "#extracting the 0 and 1 of attrition variable\n",
    "yes = df[df['Attrition'] == '1']\n",
    "no = df[df['Attrition'] == '0']"
   ]
  },
  {
   "cell_type": "code",
   "execution_count": 38,
   "id": "8a9736af",
   "metadata": {},
   "outputs": [
    {
     "name": "stdout",
     "output_type": "stream",
     "text": [
      "(237, 44) (1233, 44)\n"
     ]
    }
   ],
   "source": [
    "print(yes.shape, no.shape)"
   ]
  },
  {
   "cell_type": "markdown",
   "id": "49a93d49",
   "metadata": {},
   "source": [
    "#### UnderSampling Approach"
   ]
  },
  {
   "cell_type": "code",
   "execution_count": 39,
   "id": "96dcb923",
   "metadata": {},
   "outputs": [],
   "source": [
    "from imblearn.under_sampling import RandomUnderSampler"
   ]
  },
  {
   "cell_type": "code",
   "execution_count": 40,
   "id": "f99048af",
   "metadata": {},
   "outputs": [],
   "source": [
    "rus = RandomUnderSampler()"
   ]
  },
  {
   "cell_type": "code",
   "execution_count": 41,
   "id": "bb62b95f",
   "metadata": {},
   "outputs": [],
   "source": [
    "X_res, y_res = rus.fit_resample(X,y)"
   ]
  },
  {
   "cell_type": "code",
   "execution_count": 42,
   "id": "d2ce771c",
   "metadata": {},
   "outputs": [
    {
     "name": "stdout",
     "output_type": "stream",
     "text": [
      "(474, 22) (474,)\n"
     ]
    }
   ],
   "source": [
    "print(X_res.shape, y_res.shape)"
   ]
  },
  {
   "cell_type": "markdown",
   "id": "3e78c4ab",
   "metadata": {},
   "source": [
    "#### Using the sampled data for our models"
   ]
  },
  {
   "cell_type": "code",
   "execution_count": 43,
   "id": "a10ac76f",
   "metadata": {},
   "outputs": [
    {
     "name": "stdout",
     "output_type": "stream",
     "text": [
      "0.7066489361702128\n"
     ]
    }
   ],
   "source": [
    "rf = RandomForestClassifier(n_estimators = 200, criterion = 'entropy', max_depth = 5)\n",
    "print(cross_val_score(rf, X_res, y_res, cv = 10, scoring = 'accuracy').mean())"
   ]
  },
  {
   "cell_type": "code",
   "execution_count": 44,
   "id": "0d9eebc4",
   "metadata": {},
   "outputs": [
    {
     "name": "stdout",
     "output_type": "stream",
     "text": [
      "0.5611702127659575\n"
     ]
    }
   ],
   "source": [
    "knn = KNeighborsClassifier(n_neighbors = 5)\n",
    "print(cross_val_score(knn, X_res, y_res, cv = 10, scoring = 'accuracy').mean())"
   ]
  },
  {
   "cell_type": "markdown",
   "id": "895b800e",
   "metadata": {},
   "source": [
    "Here we notice that the accuracy of the model decreased drastically. This may be because of loss of some critical data points due to undersampling."
   ]
  },
  {
   "cell_type": "markdown",
   "id": "898bd98d",
   "metadata": {},
   "source": [
    "#### Upsampling Approach"
   ]
  },
  {
   "cell_type": "code",
   "execution_count": 45,
   "id": "3ec99e76",
   "metadata": {},
   "outputs": [],
   "source": [
    "from imblearn.combine import SMOTETomek"
   ]
  },
  {
   "cell_type": "code",
   "execution_count": 46,
   "id": "3698c218",
   "metadata": {},
   "outputs": [],
   "source": [
    "smk = SMOTETomek(random_state =23)"
   ]
  },
  {
   "cell_type": "code",
   "execution_count": 47,
   "id": "16ed22b4",
   "metadata": {},
   "outputs": [],
   "source": [
    "X_res2, y_res2 = smk.fit_resample(X,y)"
   ]
  },
  {
   "cell_type": "code",
   "execution_count": 48,
   "id": "8d30043f",
   "metadata": {},
   "outputs": [
    {
     "name": "stdout",
     "output_type": "stream",
     "text": [
      "(2298, 22) (2298,)\n"
     ]
    }
   ],
   "source": [
    "print(X_res2.shape, y_res2.shape)"
   ]
  },
  {
   "cell_type": "markdown",
   "id": "bb4fa99e",
   "metadata": {},
   "source": [
    "#### Using the sampled data for our models"
   ]
  },
  {
   "cell_type": "code",
   "execution_count": 49,
   "id": "392d9249",
   "metadata": {},
   "outputs": [
    {
     "name": "stdout",
     "output_type": "stream",
     "text": [
      "0.8337801404974368\n"
     ]
    }
   ],
   "source": [
    "rf = RandomForestClassifier(n_estimators = 300, criterion = 'gini', max_depth = 4)\n",
    "print(cross_val_score(rf, X_res2, y_res2, cv = 10, scoring = 'accuracy').mean())"
   ]
  },
  {
   "cell_type": "code",
   "execution_count": 50,
   "id": "c3116ac7",
   "metadata": {},
   "outputs": [
    {
     "name": "stdout",
     "output_type": "stream",
     "text": [
      "0.8202715018036834\n"
     ]
    }
   ],
   "source": [
    "knn = KNeighborsClassifier(n_neighbors = 3)\n",
    "print(cross_val_score(knn, X_res2, y_res2, cv = 10, scoring = 'accuracy').mean())"
   ]
  },
  {
   "cell_type": "markdown",
   "id": "0a0179be",
   "metadata": {},
   "source": [
    "The results are much better in this approach as compared to the undersampling method."
   ]
  },
  {
   "cell_type": "code",
   "execution_count": null,
   "id": "4149327b",
   "metadata": {},
   "outputs": [],
   "source": []
  }
 ],
 "metadata": {
  "kernelspec": {
   "display_name": "Python 3",
   "language": "python",
   "name": "python3"
  },
  "language_info": {
   "codemirror_mode": {
    "name": "ipython",
    "version": 3
   },
   "file_extension": ".py",
   "mimetype": "text/x-python",
   "name": "python",
   "nbconvert_exporter": "python",
   "pygments_lexer": "ipython3",
   "version": "3.8.8"
  }
 },
 "nbformat": 4,
 "nbformat_minor": 5
}
